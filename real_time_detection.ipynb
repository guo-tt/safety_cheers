{
 "cells": [
  {
   "cell_type": "code",
   "execution_count": 3,
   "id": "abbeb74e-ba14-4978-be5d-018f65701c27",
   "metadata": {},
   "outputs": [
    {
     "name": "stderr",
     "output_type": "stream",
     "text": [
      "/Users/guotiantian/opt/anaconda3/envs/safety/lib/python3.8/site-packages/tqdm/auto.py:21: TqdmWarning: IProgress not found. Please update jupyter and ipywidgets. See https://ipywidgets.readthedocs.io/en/stable/user_install.html\n",
      "  from .autonotebook import tqdm as notebook_tqdm\n"
     ]
    }
   ],
   "source": [
    "import gradio as gr\n",
    "import numpy as np"
   ]
  },
  {
   "cell_type": "code",
   "execution_count": null,
   "id": "b5ab9d7c-4812-4a3f-86b9-5231ed6216ac",
   "metadata": {},
   "outputs": [],
   "source": [
    "import super_gradients\n",
    "yolo_nas = super_gradients.training.models.get(\n",
    "    \"yolo_nas_pose_n\",\n",
    "    pretrained_weights=\"coco_pose\",\n",
    ")\n",
    "\n",
    "def detect_pose(im):\n",
    "    model_predictions = yolo_nas.predict(im, conf=0.5, fuse_model=False)\n",
    "    return model_predictions.draw()"
   ]
  },
  {
   "cell_type": "code",
   "execution_count": null,
   "id": "7985f6e0-c2a3-44a9-a2f5-0b114e02ee10",
   "metadata": {},
   "outputs": [],
   "source": [
    "demo = gr.Interface(\n",
    "    detect_pose, \n",
    "    gr.Image(sources=[\"webcam\"], streaming=True), \n",
    "    \"image\",\n",
    "    live=True\n",
    ")"
   ]
  },
  {
   "cell_type": "code",
   "execution_count": null,
   "id": "cf76bc30-3240-471a-b750-f7a119df2592",
   "metadata": {},
   "outputs": [],
   "source": [
    "demo.launch()"
   ]
  },
  {
   "cell_type": "code",
   "execution_count": null,
   "id": "1bd7e8fa-8d23-4052-9070-2e89c7d7e302",
   "metadata": {},
   "outputs": [],
   "source": []
  }
 ],
 "metadata": {
  "kernelspec": {
   "display_name": "safety",
   "language": "python",
   "name": "safety"
  },
  "language_info": {
   "codemirror_mode": {
    "name": "ipython",
    "version": 3
   },
   "file_extension": ".py",
   "mimetype": "text/x-python",
   "name": "python",
   "nbconvert_exporter": "python",
   "pygments_lexer": "ipython3",
   "version": "3.9.18"
  }
 },
 "nbformat": 4,
 "nbformat_minor": 5
}
